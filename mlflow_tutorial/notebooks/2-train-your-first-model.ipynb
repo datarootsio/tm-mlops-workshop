{
  "nbformat": 4,
  "nbformat_minor": 2,
  "metadata": {},
  "cells": [
    {
      "metadata": {},
      "source": [
        "import mlflow\n",
        "import pandas as pd\n",
        "import matplotlib.pyplot as plt\n",
        "\n",
        "from sklearn.model_selection import train_test_split\n",
        "from sklearn.datasets import load_diabetes\n",
        " \n",
        "from sklearn.ensemble import RandomForestRegressor\n",
        "from sklearn.metrics import mean_squared_error"
      ],
      "cell_type": "code",
      "outputs": [],
      "execution_count": null
    },
    {
      "metadata": {},
      "source": [
        "# We'll use a toy dataset from sklearn\n",
        "dataset = load_diabetes()"
      ],
      "cell_type": "code",
      "outputs": [],
      "execution_count": null
    },
    {
      "metadata": {},
      "source": [
        "# let's quickly split the dataset\n",
        "X = dataset.data\n",
        "y = dataset.target\n",
        "X_train, X_test, y_train, y_test = train_test_split(X, y)"
      ],
      "cell_type": "code",
      "outputs": [],
      "execution_count": null
    },
    {
      "metadata": {},
      "source": [
        "# The recommended way to get started using MLflow tracking with Python is to use the MLflow autolog() API.\n",
        "# With MLflow\u2019s autologging capabilities, a single line of code automatically logs the resulting model, the parameters used to create the model, and a model score.\n",
        "mlflow.sklearn.autolog()\n",
        "\n",
        "# This time I want to use a specific experiment\n",
        "mlflow.set_experiment(\"My amazing Experiment\")\n",
        " \n",
        "# With autolog() enabled, all model parameters, a model score, and the fitted model are automatically logged.\n",
        "# It's also possible to pass a run name like  mlflow.start_run(run_name=\"My amazing run\"), otherwise MLflow will choose one for us \n",
        "with mlflow.start_run():\n",
        "  # Set the model parameters. \n",
        "  n_estimators = 100\n",
        "  max_depth = 6\n",
        "  max_features = 3\n",
        "\n",
        "  # Create and train model.\n",
        "  rf = RandomForestRegressor(n_estimators = n_estimators, max_depth = max_depth, max_features = max_features)\n",
        "  rf.fit(X_train, y_train)\n",
        "\n",
        "  # Use the model to make predictions on the test dataset.\n",
        "  predictions = rf.predict(X_test)\n",
        "\n",
        "  # Log the model parameters used for this run.\n",
        "  mlflow.log_param(\"num_trees\", n_estimators)\n",
        "  mlflow.log_param(\"maxdepth\", max_depth)\n",
        "  mlflow.log_param(\"max_feat\", max_features)\n",
        "\n",
        "  # Define a metric to use to evaluate the model.\n",
        "  mse = mean_squared_error(y_test, predictions)\n",
        "    \n",
        "  # Log the value of the metric from this run.\n",
        "  mlflow.log_metric(\"mse\", mse)\n",
        "\n",
        "  # Convert the residuals to a pandas dataframe to take advantage of graphics capabilities\n",
        "  df = pd.DataFrame(data = predictions - y_test)\n",
        "  # Create a plot of residuals\n",
        "  plt.plot(df)\n",
        "  plt.xlabel(\"Observation\")\n",
        "  plt.ylabel(\"Residual\")\n",
        "  plt.title(\"Residuals\")\n",
        "\n",
        "  # Save the plot figure\n",
        "  fig = plt.gcf()\n",
        "  mlflow.log_figure(fig, \"residuals_plot.png\")\n",
        "\n",
        "mlflow.end_run()"
      ],
      "cell_type": "code",
      "outputs": [],
      "execution_count": null
    }
  ]
}