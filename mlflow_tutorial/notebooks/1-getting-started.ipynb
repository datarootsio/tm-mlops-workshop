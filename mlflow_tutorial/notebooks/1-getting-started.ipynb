{
 "cells": [
  {
   "cell_type": "code",
   "execution_count": 1,
   "metadata": {},
   "outputs": [],
   "source": [
    "import mlflow\n",
    "from random import randint, random"
   ]
  },
  {
   "cell_type": "code",
   "execution_count": 2,
   "metadata": {},
   "outputs": [],
   "source": [
    "# Log a parameter (key-value pair)\n",
    "mlflow.log_param(\"param1\", randint(0, 100))\n",
    "\n",
    "# Log a metric; metrics can be updated throughout the run\n",
    "mlflow.log_metric(\"foo\", random())\n",
    "mlflow.log_metric(\"foo\", random() + 1)\n",
    "mlflow.log_metric(\"foo\", random() + 2)\n",
    "\n",
    "# Log an artifact a simple text file\n",
    "mlflow.log_artifact(\"artifacts/text_file.txt\")\n",
    "\n",
    "# Log an image\n",
    "mlflow.log_artifact(\"artifacts/kitten.jpg\")"
   ]
  },
  {
   "cell_type": "code",
   "execution_count": null,
   "metadata": {},
   "outputs": [
    {
     "name": "stdout",
     "output_type": "stream",
     "text": [
      "[2023-11-16 00:12:10 +0100] [83642] [INFO] Starting gunicorn 21.2.0\n",
      "[2023-11-16 00:12:10 +0100] [83642] [INFO] Listening at: http://127.0.0.1:5000 (83642)\n",
      "[2023-11-16 00:12:10 +0100] [83642] [INFO] Using worker: sync\n",
      "[2023-11-16 00:12:10 +0100] [83643] [INFO] Booting worker with pid: 83643\n",
      "[2023-11-16 00:12:10 +0100] [83644] [INFO] Booting worker with pid: 83644\n",
      "[2023-11-16 00:12:10 +0100] [83645] [INFO] Booting worker with pid: 83645\n",
      "[2023-11-16 00:12:10 +0100] [83646] [INFO] Booting worker with pid: 83646\n"
     ]
    }
   ],
   "source": [
    "! mlflow ui"
   ]
  },
  {
   "cell_type": "code",
   "execution_count": null,
   "metadata": {},
   "outputs": [],
   "source": []
  }
 ],
 "metadata": {
  "kernelspec": {
   "display_name": "Python 3 (ipykernel)",
   "language": "python",
   "name": "python3"
  },
  "language_info": {
   "codemirror_mode": {
    "name": "ipython",
    "version": 3
   },
   "file_extension": ".py",
   "mimetype": "text/x-python",
   "name": "python",
   "nbconvert_exporter": "python",
   "pygments_lexer": "ipython3",
   "version": "3.11.5"
  }
 },
 "nbformat": 4,
 "nbformat_minor": 4
}
