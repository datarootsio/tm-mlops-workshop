{
  "nbformat": 4,
  "nbformat_minor": 2,
  "metadata": {},
  "cells": [
    {
      "metadata": {},
      "source": [
        "import requests"
      ],
      "cell_type": "code",
      "outputs": [],
      "execution_count": null
    },
    {
      "metadata": {},
      "source": [
        "url = 'http://127.0.0.1:5001/invocations'\n",
        "\n",
        "input_data = {\n",
        "    \"dataframe_split\" :{\n",
        "    \"columns\": ['age', 'sex', 'bmi', 'bp', 's1', 's2', 's3', 's4', 's5','s6'],\n",
        "    \"data\": [ [ 0.03807591,  0.05068012,  0.06169621,  0.02187239, -0.0442235 , -0.03482076, -0.04340085, -0.00259226,  0.01990749, -0.01764613]]\n",
        "    }\n",
        "}"
      ],
      "cell_type": "code",
      "outputs": [],
      "execution_count": null
    },
    {
      "metadata": {},
      "source": [
        "resp = requests.post(url, json = input_data)"
      ],
      "cell_type": "code",
      "outputs": [],
      "execution_count": null
    },
    {
      "metadata": {},
      "source": [
        "resp.text"
      ],
      "cell_type": "code",
      "outputs": [],
      "execution_count": null
    },
    {
      "metadata": {},
      "source": [],
      "cell_type": "code",
      "outputs": [],
      "execution_count": null
    }
  ]
}